{
  "nbformat": 4,
  "nbformat_minor": 0,
  "metadata": {
    "colab": {
      "name": "spike.ipynb",
      "provenance": [],
      "collapsed_sections": [],
      "authorship_tag": "ABX9TyN4lyJ8oiVq7zeMxJ37S4i8"
    },
    "kernelspec": {
      "name": "python3",
      "display_name": "Python 3"
    }
  },
  "cells": [
    {
      "cell_type": "markdown",
      "metadata": {
        "id": "A5dnf4Llx8dP"
      },
      "source": [
        "# Project SPIKE: a study on spiking neural networks\r\n",
        "Rodrigo Pereira Cruz <br>\r\n",
        "pereirarodrigocs@gmail.com <br>\r\n",
        "<br>\r\n",
        "***\r\n",
        "\r\n",
        "> This Jupyter notebook is used for studying spiking neural networks, more specifically the integrate-and-fire and leaky integrate-and-fire models. It is focused on its applications in machine learning and its overall impact on computational intelligence. As stated in the readme file, this project will make heavy use of BindsNET for neural simulations."
      ]
    },
    {
      "cell_type": "markdown",
      "metadata": {
        "id": "Clq0mWG_RaUR"
      },
      "source": [
        "## 1. Introduction\r\n",
        "***\r\n",
        "Spiking neural networks are a third generation neural network that are inspired by biological neuronal communication, which happens through action potentials; this process is driven by a sum of changes in the membrane potential, which generate a spike when crossing a stimulation threshold.\r\n",
        "\r\n",
        "<br>\r\n",
        "\r\n",
        "<center>\r\n",
        "\r\n",
        "![Neuron spike](https://neuronaldynamics.epfl.ch/online/x9.png)\r\n",
        "\r\n",
        "<br>\r\n",
        "\r\n",
        "<font size = \"2\"> **Fig. 1**: Two sequential presynaptic neuron spikes, received as input in a postsynaptic neuron, cause two postsynaptic potentials that become a cumulative action potential. Note that the threshold $\\vartheta$ is not reached, thus a spike is not produced. Source: https://neuronaldynamics.epfl.ch/online/x9.png. </font>\r\n",
        "\r\n",
        "<br>\r\n",
        "\r\n",
        "</center>\r\n",
        "\r\n",
        "<br>\r\n"
      ]
    },
    {
      "cell_type": "code",
      "metadata": {
        "id": "njWSxgt2rcBI"
      },
      "source": [
        "# Installing BindsNET\r\n",
        "#!pip install git+https://github.com/BindsNET/bindsnet.git\r\n",
        "\r\n",
        "from bindsnet.network import Network"
      ],
      "execution_count": null,
      "outputs": []
    }
  ]
}