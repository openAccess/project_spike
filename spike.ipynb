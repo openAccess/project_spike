{
  "nbformat": 4,
  "nbformat_minor": 0,
  "metadata": {
    "colab": {
      "name": "spike.ipynb",
      "provenance": [],
      "collapsed_sections": [],
      "authorship_tag": "ABX9TyMdw7tHJ14CPEM8fFMwOgbD"
    },
    "kernelspec": {
      "name": "python3",
      "display_name": "Python 3"
    }
  },
  "cells": [
    {
      "cell_type": "markdown",
      "metadata": {
        "id": "A5dnf4Llx8dP"
      },
      "source": [
        "# Project SPIKE: a study on spiking neural networks\r\n",
        "Rodrigo Pereira Cruz <br>\r\n",
        "pereirarodrigocs@gmail.com <br>\r\n",
        "<br>\r\n",
        "***\r\n",
        "\r\n",
        "> This Jupyter notebook is used for studying spiking neural networks, more specifically the integrate-and-fire and leaky integrate-and-fire models. It is focused on its applications in machine learning and its overall impact on computational intelligence. As stated in the readme file, this project will make heavy use of BindsNET for neural simulations."
      ]
    },
    {
      "cell_type": "code",
      "metadata": {
        "id": "njWSxgt2rcBI"
      },
      "source": [
        "# Installing BindsNET\r\n",
        "#!pip install git+https://github.com/BindsNET/bindsnet.git\r\n",
        "\r\n",
        "from bindsnet.network import Network"
      ],
      "execution_count": null,
      "outputs": []
    }
  ]
}