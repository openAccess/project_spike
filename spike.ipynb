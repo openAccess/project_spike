{
  "nbformat": 4,
  "nbformat_minor": 0,
  "metadata": {
    "colab": {
      "name": "spike.ipynb",
      "provenance": [],
      "collapsed_sections": [],
      "authorship_tag": "ABX9TyOK5Yqt5j8dWlDtqKTNoVn1"
    },
    "kernelspec": {
      "name": "python3",
      "display_name": "Python 3"
    }
  },
  "cells": [
    {
      "cell_type": "markdown",
      "metadata": {
        "id": "A5dnf4Llx8dP"
      },
      "source": [
        "# Project SPIKE: a study on spiking neural networks\r\n",
        "Rodrigo Pereira Cruz <br>\r\n",
        "pereirarodrigocs@gmail.com <br>\r\n",
        "<br>\r\n",
        "***\r\n",
        "\r\n",
        "> This Jupyter notebook is used for studying spiking neural networks, more specifically the integrate-and-fire and leaky integrate-and-fire models. It is focused on its applications in machine learning and its overall impact on computational intelligence. As stated in the readme file, this project will make heavy use of BindsNET for neural simulations."
      ]
    },
    {
      "cell_type": "markdown",
      "metadata": {
        "id": "Clq0mWG_RaUR"
      },
      "source": [
        "## 1. Introduction\r\n",
        "***\r\n",
        "Spiking neural networks are a third generation neural network that are inspired by biological neuronal communication, which happens through action potentials; this process is driven by a sum of changes in the membrane potential, which generate a spike when crossing a stimulation threshold.\r\n",
        "\r\n",
        "<br>\r\n",
        "\r\n",
        "<center>\r\n",
        "\r\n",
        "![Neuron spike](https://neuronaldynamics.epfl.ch/online/x9.png)\r\n",
        "\r\n",
        "<br>\r\n",
        "\r\n",
        "<font size = \"2\"> **Fig. 1**: Two sequential presynaptic neuron spikes, received as input in a postsynaptic neuron, cause two postsynaptic potentials that become a cumulative action potential. Note that the threshold $\\vartheta$ is not reached, thus a spike is not produced. Source: https://neuronaldynamics.epfl.ch/online/x9.png. </font>\r\n",
        "\r\n",
        "<br>\r\n",
        "\r\n",
        "</center>\r\n",
        "\r\n",
        "<br>\r\n",
        "\r\n",
        "Consider a presynaptic neuron $j = 1$ and a postsynaptic neuron $i$. Neuron $j = 1$ fires spikes at $t_1^{(1)}, t_1^{(2)}, ...$. Each of those spikes evokes a postsynaptic potential $\\epsilon_{i1}$, which is defined, mathematically, as\r\n",
        "\r\n",
        "<br>\r\n",
        "\r\n",
        "$$u_i(t) = \\sum_j \\epsilon_{i1}(t - t_1^{(j)}) + u_{rest}$$\r\n",
        "\r\n",
        "<br>\r\n",
        "\r\n",
        "where $u_{rest}$ corresponds to the neuron's at rest state value, which is $\\approx \\mbox{-65 } mV$.\r\n",
        "\r\n",
        "<br>\r\n",
        "\r\n",
        "Should there be more spikes, such that $j = 1, 2$ for example, the total change of the potential takes a cumulative linear form, such that\r\n",
        "\r\n",
        "<br>\r\n",
        "\r\n",
        "$$u_i(t) = \\sum_j \\sum_f \\epsilon_{ij}(t - t_j^{(f)}) + u_{rest}$$\r\n",
        "\r\n",
        "<br>\r\n",
        "\r\n",
        "so long as there are only a few input spikes.\r\n"
      ]
    },
    {
      "cell_type": "code",
      "metadata": {
        "id": "njWSxgt2rcBI"
      },
      "source": [
        "# Installing BindsNET\r\n",
        "#!pip install git+https://github.com/BindsNET/bindsnet.git\r\n",
        "\r\n",
        "from bindsnet.network import Network"
      ],
      "execution_count": null,
      "outputs": []
    }
  ]
}